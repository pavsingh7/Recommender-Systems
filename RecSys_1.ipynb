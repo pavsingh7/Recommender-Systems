{
 "cells": [
  {
   "attachments": {},
   "cell_type": "markdown",
   "metadata": {},
   "source": [
    "# Recommender Systems 1\n",
    "#### An Introduction to Recommender Systems in Python\n",
    "\n",
    "**The objective of a RecSys is to recommend relevant items for users, based on their preference. Preference and relevance are subjective, and they are generally inferred by items users have consumed previously**\n",
    "\n",
    "As previously discussed in the README.md file, there are three main families of methods for RecSys, these are:\n",
    "\n",
    "1. **Collaborative Filtering**: This method makes automatic predictions (filtering) about the interests of a user by collecting preferences or taste information from many users (collaborating). The underlying assumption of the collaborative filtering approach is that if a person `A` has the same opinion as a person `B` on a set of items, A is more likely to have B's opinion for a given item than that of a randomly chosen person.\n",
    "    * Imagine that there is a website that sells books, and we have data on which books each user has purchased. We can use this data to build a recommendation system that suggests books to users based on the purchases of other similar users. \n",
    "\n",
    "2. **Content-Based Filtering**: This method uses only information about the description and attributes of the items users has previously consumed to model user's preferences. In other words, these algorithms try to recommend items that are similar to those that a user liked in the past (or is examining in the present). In particular, various candidate items are compared with items previously rated by the user and the best-matching items are recommended.\n",
    "    * Imagine that there is a website that sells books, and each book has a number of attributes, such as the author, the publisher, and the genre. We can use these attributes to build a recommendation system that suggests books to users based on their past preferences. So we, for example, look at the attributes of the books person `A` has purchased and recommend similar books to them.\n",
    "\n",
    "3. **Hybrid methods**: Recent research has demonstrated that a hybrid approach, combining collaborative filtering and content-based filtering could be more effective than pure approaches in some cases. These methods can also be used to overcome some of the common problems in recommender systems such as cold start and the sparsity problem.\n",
    "    * Imagine that there is a website that sells books, and each book has a number of attributes, such as the author, the publisher, and the genre. We also have data on which books each user has purchased. We can use this data to build a recommendation system that combines content-based and collaborative filtering techniques. So first we can use content-based filtering to recommend books to user `A` based on the attributes of the books they have purchased. Then we can also use collaborative filtering to recommend books to user `A` based on the purchases of other similar users. We can then combine recommendations using various methods to give one list.\n",
    "\n",
    "# Goal\n",
    "\n",
    "We will demonstrate how to implement Collaborative Filtering, Content-Based Filtering and Hybrid methods in Python, for the task of providing personalized recommendations to the users\n",
    "\n",
    "\n"
   ]
  },
  {
   "cell_type": "markdown",
   "metadata": {},
   "source": []
  }
 ],
 "metadata": {
  "kernelspec": {
   "display_name": "base",
   "language": "python",
   "name": "python3"
  },
  "language_info": {
   "name": "python",
   "version": "3.9.12 (main, Apr  5 2022, 01:53:17) \n[Clang 12.0.0 ]"
  },
  "orig_nbformat": 4,
  "vscode": {
   "interpreter": {
    "hash": "592720dbed1256d2a23d8b00e5ee6ece89b12c02a81b97be893b807d9576d7c4"
   }
  }
 },
 "nbformat": 4,
 "nbformat_minor": 2
}
